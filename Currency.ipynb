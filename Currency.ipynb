{
 "cells": [
  {
   "cell_type": "code",
   "execution_count": 1,
   "id": "f5b594ee",
   "metadata": {},
   "outputs": [],
   "source": [
    "import pandas as pd\n",
    "import numpy as np\n",
    "import matplotlib.pyplot as plt\n",
    "import seaborn as sns"
   ]
  },
  {
   "cell_type": "code",
   "execution_count": 2,
   "id": "b0dd9849",
   "metadata": {},
   "outputs": [
    {
     "name": "stderr",
     "output_type": "stream",
     "text": [
      "C:\\Users\\arinc\\AppData\\Local\\Temp\\ipykernel_21344\\2103106357.py:1: DtypeWarning: Columns (8,9,10,11) have mixed types. Specify dtype option on import or set low_memory=False.\n",
      "  df = pd.read_csv(r\"C:\\Users\\arinc\\OneDrive\\Desktop\\currency.csv\")\n"
     ]
    }
   ],
   "source": [
    "df = pd.read_csv(r\"C:\\Users\\arinc\\OneDrive\\Desktop\\currency.csv\")"
   ]
  },
  {
   "cell_type": "code",
   "execution_count": 3,
   "id": "60ea88da",
   "metadata": {},
   "outputs": [
    {
     "data": {
      "text/html": [
       "<div>\n",
       "<style scoped>\n",
       "    .dataframe tbody tr th:only-of-type {\n",
       "        vertical-align: middle;\n",
       "    }\n",
       "\n",
       "    .dataframe tbody tr th {\n",
       "        vertical-align: top;\n",
       "    }\n",
       "\n",
       "    .dataframe thead th {\n",
       "        text-align: right;\n",
       "    }\n",
       "</style>\n",
       "<table border=\"1\" class=\"dataframe\">\n",
       "  <thead>\n",
       "    <tr style=\"text-align: right;\">\n",
       "      <th></th>\n",
       "      <th>Unnamed: 0</th>\n",
       "      <th>Date</th>\n",
       "      <th>Open</th>\n",
       "      <th>High</th>\n",
       "      <th>Low</th>\n",
       "      <th>Close</th>\n",
       "      <th>Volume</th>\n",
       "      <th>Currency</th>\n",
       "      <th>Coin</th>\n",
       "      <th>Symbol</th>\n",
       "      <th>Price</th>\n",
       "      <th>Dataset availability</th>\n",
       "    </tr>\n",
       "  </thead>\n",
       "  <tbody>\n",
       "    <tr>\n",
       "      <th>0</th>\n",
       "      <td>0</td>\n",
       "      <td>2021-11-11</td>\n",
       "      <td>0.162048</td>\n",
       "      <td>0.226040</td>\n",
       "      <td>0.153893</td>\n",
       "      <td>0.157250</td>\n",
       "      <td>0.0</td>\n",
       "      <td>USD</td>\n",
       "      <td>NaN</td>\n",
       "      <td>NaN</td>\n",
       "      <td>NaN</td>\n",
       "      <td>NaN</td>\n",
       "    </tr>\n",
       "    <tr>\n",
       "      <th>1</th>\n",
       "      <td>1</td>\n",
       "      <td>2021-11-12</td>\n",
       "      <td>0.157051</td>\n",
       "      <td>0.194861</td>\n",
       "      <td>0.121857</td>\n",
       "      <td>0.129449</td>\n",
       "      <td>3506064.0</td>\n",
       "      <td>USD</td>\n",
       "      <td>NaN</td>\n",
       "      <td>NaN</td>\n",
       "      <td>NaN</td>\n",
       "      <td>NaN</td>\n",
       "    </tr>\n",
       "    <tr>\n",
       "      <th>2</th>\n",
       "      <td>2</td>\n",
       "      <td>2021-11-13</td>\n",
       "      <td>0.129607</td>\n",
       "      <td>0.129681</td>\n",
       "      <td>0.090093</td>\n",
       "      <td>0.103120</td>\n",
       "      <td>900435.0</td>\n",
       "      <td>USD</td>\n",
       "      <td>NaN</td>\n",
       "      <td>NaN</td>\n",
       "      <td>NaN</td>\n",
       "      <td>NaN</td>\n",
       "    </tr>\n",
       "    <tr>\n",
       "      <th>3</th>\n",
       "      <td>3</td>\n",
       "      <td>2021-11-14</td>\n",
       "      <td>0.103113</td>\n",
       "      <td>0.120375</td>\n",
       "      <td>0.073541</td>\n",
       "      <td>0.078698</td>\n",
       "      <td>483496.0</td>\n",
       "      <td>USD</td>\n",
       "      <td>NaN</td>\n",
       "      <td>NaN</td>\n",
       "      <td>NaN</td>\n",
       "      <td>NaN</td>\n",
       "    </tr>\n",
       "    <tr>\n",
       "      <th>4</th>\n",
       "      <td>4</td>\n",
       "      <td>2021-11-15</td>\n",
       "      <td>0.078713</td>\n",
       "      <td>0.097588</td>\n",
       "      <td>0.077026</td>\n",
       "      <td>0.082291</td>\n",
       "      <td>319587.0</td>\n",
       "      <td>USD</td>\n",
       "      <td>NaN</td>\n",
       "      <td>NaN</td>\n",
       "      <td>NaN</td>\n",
       "      <td>NaN</td>\n",
       "    </tr>\n",
       "  </tbody>\n",
       "</table>\n",
       "</div>"
      ],
      "text/plain": [
       "   Unnamed: 0        Date      Open      High       Low     Close     Volume  \\\n",
       "0           0  2021-11-11  0.162048  0.226040  0.153893  0.157250        0.0   \n",
       "1           1  2021-11-12  0.157051  0.194861  0.121857  0.129449  3506064.0   \n",
       "2           2  2021-11-13  0.129607  0.129681  0.090093  0.103120   900435.0   \n",
       "3           3  2021-11-14  0.103113  0.120375  0.073541  0.078698   483496.0   \n",
       "4           4  2021-11-15  0.078713  0.097588  0.077026  0.082291   319587.0   \n",
       "\n",
       "  Currency Coin Symbol Price Dataset availability  \n",
       "0      USD  NaN    NaN   NaN                  NaN  \n",
       "1      USD  NaN    NaN   NaN                  NaN  \n",
       "2      USD  NaN    NaN   NaN                  NaN  \n",
       "3      USD  NaN    NaN   NaN                  NaN  \n",
       "4      USD  NaN    NaN   NaN                  NaN  "
      ]
     },
     "execution_count": 3,
     "metadata": {},
     "output_type": "execute_result"
    }
   ],
   "source": [
    "df.head()"
   ]
  },
  {
   "cell_type": "code",
   "execution_count": 4,
   "id": "9c913b6b",
   "metadata": {},
   "outputs": [
    {
     "data": {
      "text/plain": [
       "(124494, 12)"
      ]
     },
     "execution_count": 4,
     "metadata": {},
     "output_type": "execute_result"
    }
   ],
   "source": [
    "df.shape"
   ]
  },
  {
   "cell_type": "code",
   "execution_count": 5,
   "id": "a3604426",
   "metadata": {},
   "outputs": [
    {
     "name": "stdout",
     "output_type": "stream",
     "text": [
      "<class 'pandas.core.frame.DataFrame'>\n",
      "RangeIndex: 124494 entries, 0 to 124493\n",
      "Data columns (total 12 columns):\n",
      " #   Column                Non-Null Count   Dtype  \n",
      "---  ------                --------------   -----  \n",
      " 0   Unnamed: 0            124494 non-null  int64  \n",
      " 1   Date                  124094 non-null  object \n",
      " 2   Open                  124094 non-null  float64\n",
      " 3   High                  124094 non-null  float64\n",
      " 4   Low                   124094 non-null  float64\n",
      " 5   Close                 124094 non-null  float64\n",
      " 6   Volume                124094 non-null  float64\n",
      " 7   Currency              124094 non-null  object \n",
      " 8   Coin                  400 non-null     object \n",
      " 9   Symbol                400 non-null     object \n",
      " 10  Price                 400 non-null     object \n",
      " 11  Dataset availability  400 non-null     object \n",
      "dtypes: float64(5), int64(1), object(6)\n",
      "memory usage: 11.4+ MB\n"
     ]
    }
   ],
   "source": [
    "df.info()"
   ]
  },
  {
   "cell_type": "code",
   "execution_count": 6,
   "id": "86cfed1f",
   "metadata": {},
   "outputs": [],
   "source": [
    "df.drop(columns = ['Unnamed: 0'], inplace = True )"
   ]
  },
  {
   "cell_type": "code",
   "execution_count": 7,
   "id": "b4b71339",
   "metadata": {},
   "outputs": [
    {
     "data": {
      "text/html": [
       "<div>\n",
       "<style scoped>\n",
       "    .dataframe tbody tr th:only-of-type {\n",
       "        vertical-align: middle;\n",
       "    }\n",
       "\n",
       "    .dataframe tbody tr th {\n",
       "        vertical-align: top;\n",
       "    }\n",
       "\n",
       "    .dataframe thead th {\n",
       "        text-align: right;\n",
       "    }\n",
       "</style>\n",
       "<table border=\"1\" class=\"dataframe\">\n",
       "  <thead>\n",
       "    <tr style=\"text-align: right;\">\n",
       "      <th></th>\n",
       "      <th>Date</th>\n",
       "      <th>Open</th>\n",
       "      <th>High</th>\n",
       "      <th>Low</th>\n",
       "      <th>Close</th>\n",
       "      <th>Volume</th>\n",
       "      <th>Currency</th>\n",
       "      <th>Coin</th>\n",
       "      <th>Symbol</th>\n",
       "      <th>Price</th>\n",
       "      <th>Dataset availability</th>\n",
       "    </tr>\n",
       "  </thead>\n",
       "  <tbody>\n",
       "    <tr>\n",
       "      <th>0</th>\n",
       "      <td>2021-11-11</td>\n",
       "      <td>0.162048</td>\n",
       "      <td>0.226040</td>\n",
       "      <td>0.153893</td>\n",
       "      <td>0.157250</td>\n",
       "      <td>0.0</td>\n",
       "      <td>USD</td>\n",
       "      <td>NaN</td>\n",
       "      <td>NaN</td>\n",
       "      <td>NaN</td>\n",
       "      <td>NaN</td>\n",
       "    </tr>\n",
       "    <tr>\n",
       "      <th>1</th>\n",
       "      <td>2021-11-12</td>\n",
       "      <td>0.157051</td>\n",
       "      <td>0.194861</td>\n",
       "      <td>0.121857</td>\n",
       "      <td>0.129449</td>\n",
       "      <td>3506064.0</td>\n",
       "      <td>USD</td>\n",
       "      <td>NaN</td>\n",
       "      <td>NaN</td>\n",
       "      <td>NaN</td>\n",
       "      <td>NaN</td>\n",
       "    </tr>\n",
       "    <tr>\n",
       "      <th>2</th>\n",
       "      <td>2021-11-13</td>\n",
       "      <td>0.129607</td>\n",
       "      <td>0.129681</td>\n",
       "      <td>0.090093</td>\n",
       "      <td>0.103120</td>\n",
       "      <td>900435.0</td>\n",
       "      <td>USD</td>\n",
       "      <td>NaN</td>\n",
       "      <td>NaN</td>\n",
       "      <td>NaN</td>\n",
       "      <td>NaN</td>\n",
       "    </tr>\n",
       "    <tr>\n",
       "      <th>3</th>\n",
       "      <td>2021-11-14</td>\n",
       "      <td>0.103113</td>\n",
       "      <td>0.120375</td>\n",
       "      <td>0.073541</td>\n",
       "      <td>0.078698</td>\n",
       "      <td>483496.0</td>\n",
       "      <td>USD</td>\n",
       "      <td>NaN</td>\n",
       "      <td>NaN</td>\n",
       "      <td>NaN</td>\n",
       "      <td>NaN</td>\n",
       "    </tr>\n",
       "    <tr>\n",
       "      <th>4</th>\n",
       "      <td>2021-11-15</td>\n",
       "      <td>0.078713</td>\n",
       "      <td>0.097588</td>\n",
       "      <td>0.077026</td>\n",
       "      <td>0.082291</td>\n",
       "      <td>319587.0</td>\n",
       "      <td>USD</td>\n",
       "      <td>NaN</td>\n",
       "      <td>NaN</td>\n",
       "      <td>NaN</td>\n",
       "      <td>NaN</td>\n",
       "    </tr>\n",
       "  </tbody>\n",
       "</table>\n",
       "</div>"
      ],
      "text/plain": [
       "         Date      Open      High       Low     Close     Volume Currency  \\\n",
       "0  2021-11-11  0.162048  0.226040  0.153893  0.157250        0.0      USD   \n",
       "1  2021-11-12  0.157051  0.194861  0.121857  0.129449  3506064.0      USD   \n",
       "2  2021-11-13  0.129607  0.129681  0.090093  0.103120   900435.0      USD   \n",
       "3  2021-11-14  0.103113  0.120375  0.073541  0.078698   483496.0      USD   \n",
       "4  2021-11-15  0.078713  0.097588  0.077026  0.082291   319587.0      USD   \n",
       "\n",
       "  Coin Symbol Price Dataset availability  \n",
       "0  NaN    NaN   NaN                  NaN  \n",
       "1  NaN    NaN   NaN                  NaN  \n",
       "2  NaN    NaN   NaN                  NaN  \n",
       "3  NaN    NaN   NaN                  NaN  \n",
       "4  NaN    NaN   NaN                  NaN  "
      ]
     },
     "execution_count": 7,
     "metadata": {},
     "output_type": "execute_result"
    }
   ],
   "source": [
    "df.head(5)"
   ]
  },
  {
   "cell_type": "code",
   "execution_count": 8,
   "id": "5baeaea6",
   "metadata": {
    "scrolled": true
   },
   "outputs": [
    {
     "data": {
      "text/plain": [
       "Date                       400\n",
       "Open                       400\n",
       "High                       400\n",
       "Low                        400\n",
       "Close                      400\n",
       "Volume                     400\n",
       "Currency                   400\n",
       "Coin                    124094\n",
       "Symbol                  124094\n",
       "Price                   124094\n",
       "Dataset availability    124094\n",
       "dtype: int64"
      ]
     },
     "execution_count": 8,
     "metadata": {},
     "output_type": "execute_result"
    }
   ],
   "source": [
    "df.isnull().sum()"
   ]
  },
  {
   "cell_type": "code",
   "execution_count": 9,
   "id": "6c5ee485",
   "metadata": {},
   "outputs": [
    {
     "data": {
      "text/plain": [
       "1853"
      ]
     },
     "execution_count": 9,
     "metadata": {},
     "output_type": "execute_result"
    }
   ],
   "source": [
    "df.duplicated().sum()"
   ]
  },
  {
   "cell_type": "code",
   "execution_count": 10,
   "id": "8606b51e",
   "metadata": {},
   "outputs": [],
   "source": [
    "df.drop(columns=['Symbol','Price','Dataset availability','Coin'], inplace = True)"
   ]
  },
  {
   "cell_type": "code",
   "execution_count": 11,
   "id": "33871ae4",
   "metadata": {},
   "outputs": [
    {
     "data": {
      "text/html": [
       "<div>\n",
       "<style scoped>\n",
       "    .dataframe tbody tr th:only-of-type {\n",
       "        vertical-align: middle;\n",
       "    }\n",
       "\n",
       "    .dataframe tbody tr th {\n",
       "        vertical-align: top;\n",
       "    }\n",
       "\n",
       "    .dataframe thead th {\n",
       "        text-align: right;\n",
       "    }\n",
       "</style>\n",
       "<table border=\"1\" class=\"dataframe\">\n",
       "  <thead>\n",
       "    <tr style=\"text-align: right;\">\n",
       "      <th></th>\n",
       "      <th>Date</th>\n",
       "      <th>Open</th>\n",
       "      <th>High</th>\n",
       "      <th>Low</th>\n",
       "      <th>Close</th>\n",
       "      <th>Volume</th>\n",
       "      <th>Currency</th>\n",
       "    </tr>\n",
       "  </thead>\n",
       "  <tbody>\n",
       "    <tr>\n",
       "      <th>0</th>\n",
       "      <td>2021-11-11</td>\n",
       "      <td>0.162048</td>\n",
       "      <td>0.226040</td>\n",
       "      <td>0.153893</td>\n",
       "      <td>0.157250</td>\n",
       "      <td>0.0</td>\n",
       "      <td>USD</td>\n",
       "    </tr>\n",
       "    <tr>\n",
       "      <th>1</th>\n",
       "      <td>2021-11-12</td>\n",
       "      <td>0.157051</td>\n",
       "      <td>0.194861</td>\n",
       "      <td>0.121857</td>\n",
       "      <td>0.129449</td>\n",
       "      <td>3506064.0</td>\n",
       "      <td>USD</td>\n",
       "    </tr>\n",
       "    <tr>\n",
       "      <th>2</th>\n",
       "      <td>2021-11-13</td>\n",
       "      <td>0.129607</td>\n",
       "      <td>0.129681</td>\n",
       "      <td>0.090093</td>\n",
       "      <td>0.103120</td>\n",
       "      <td>900435.0</td>\n",
       "      <td>USD</td>\n",
       "    </tr>\n",
       "    <tr>\n",
       "      <th>3</th>\n",
       "      <td>2021-11-14</td>\n",
       "      <td>0.103113</td>\n",
       "      <td>0.120375</td>\n",
       "      <td>0.073541</td>\n",
       "      <td>0.078698</td>\n",
       "      <td>483496.0</td>\n",
       "      <td>USD</td>\n",
       "    </tr>\n",
       "    <tr>\n",
       "      <th>4</th>\n",
       "      <td>2021-11-15</td>\n",
       "      <td>0.078713</td>\n",
       "      <td>0.097588</td>\n",
       "      <td>0.077026</td>\n",
       "      <td>0.082291</td>\n",
       "      <td>319587.0</td>\n",
       "      <td>USD</td>\n",
       "    </tr>\n",
       "  </tbody>\n",
       "</table>\n",
       "</div>"
      ],
      "text/plain": [
       "         Date      Open      High       Low     Close     Volume Currency\n",
       "0  2021-11-11  0.162048  0.226040  0.153893  0.157250        0.0      USD\n",
       "1  2021-11-12  0.157051  0.194861  0.121857  0.129449  3506064.0      USD\n",
       "2  2021-11-13  0.129607  0.129681  0.090093  0.103120   900435.0      USD\n",
       "3  2021-11-14  0.103113  0.120375  0.073541  0.078698   483496.0      USD\n",
       "4  2021-11-15  0.078713  0.097588  0.077026  0.082291   319587.0      USD"
      ]
     },
     "execution_count": 11,
     "metadata": {},
     "output_type": "execute_result"
    }
   ],
   "source": [
    "df.head()"
   ]
  },
  {
   "cell_type": "code",
   "execution_count": 12,
   "id": "55db18d5",
   "metadata": {},
   "outputs": [
    {
     "data": {
      "text/plain": [
       "Date        400\n",
       "Open        400\n",
       "High        400\n",
       "Low         400\n",
       "Close       400\n",
       "Volume      400\n",
       "Currency    400\n",
       "dtype: int64"
      ]
     },
     "execution_count": 12,
     "metadata": {},
     "output_type": "execute_result"
    }
   ],
   "source": [
    "# df['income'].fillna((df['income'].mean()), inplace=True)\n",
    "df.isnull().sum()"
   ]
  },
  {
   "cell_type": "code",
   "execution_count": 16,
   "id": "c174a23c",
   "metadata": {},
   "outputs": [
    {
     "data": {
      "text/plain": [
       "Date        400\n",
       "Open        400\n",
       "High        400\n",
       "Low         400\n",
       "Close       400\n",
       "Volume      400\n",
       "Currency    400\n",
       "dtype: int64"
      ]
     },
     "execution_count": 16,
     "metadata": {},
     "output_type": "execute_result"
    }
   ],
   "source": [
    "df.isnull().sum()"
   ]
  },
  {
   "cell_type": "code",
   "execution_count": 14,
   "id": "62e73f3b",
   "metadata": {},
   "outputs": [
    {
     "name": "stdout",
     "output_type": "stream",
     "text": [
      "<class 'pandas.core.frame.DataFrame'>\n",
      "RangeIndex: 124494 entries, 0 to 124493\n",
      "Data columns (total 7 columns):\n",
      " #   Column    Non-Null Count   Dtype  \n",
      "---  ------    --------------   -----  \n",
      " 0   Date      124094 non-null  object \n",
      " 1   Open      124094 non-null  float64\n",
      " 2   High      124094 non-null  float64\n",
      " 3   Low       124094 non-null  float64\n",
      " 4   Close     124094 non-null  float64\n",
      " 5   Volume    124094 non-null  float64\n",
      " 6   Currency  124094 non-null  object \n",
      "dtypes: float64(5), object(2)\n",
      "memory usage: 6.6+ MB\n"
     ]
    }
   ],
   "source": [
    "df.info()"
   ]
  },
  {
   "cell_type": "code",
   "execution_count": 17,
   "id": "e4dd2aaa",
   "metadata": {},
   "outputs": [],
   "source": [
    "df['Open'].fillna(df['Open'].mean(), inplace = True)"
   ]
  },
  {
   "cell_type": "code",
   "execution_count": 20,
   "id": "69f2d2f3",
   "metadata": {},
   "outputs": [],
   "source": [
    "df['High'].fillna(df['High'].mean(), inplace = True)"
   ]
  },
  {
   "cell_type": "code",
   "execution_count": 21,
   "id": "762085f2",
   "metadata": {},
   "outputs": [],
   "source": [
    "df['Low'].fillna(df['Low'].mean(), inplace = True)\n",
    "df['Close'].fillna(df['Close'].mean(), inplace = True)\n",
    "df['Volume'].fillna(df['Volume'].mean(), inplace = True)"
   ]
  },
  {
   "cell_type": "code",
   "execution_count": 22,
   "id": "5f71f1b6",
   "metadata": {},
   "outputs": [
    {
     "data": {
      "text/plain": [
       "Date        400\n",
       "Open          0\n",
       "High          0\n",
       "Low           0\n",
       "Close         0\n",
       "Volume        0\n",
       "Currency    400\n",
       "dtype: int64"
      ]
     },
     "execution_count": 22,
     "metadata": {},
     "output_type": "execute_result"
    }
   ],
   "source": [
    "df.isnull().sum()"
   ]
  },
  {
   "cell_type": "code",
   "execution_count": 32,
   "id": "c3822483",
   "metadata": {},
   "outputs": [
    {
     "data": {
      "text/plain": [
       "<Axes: xlabel='Open', ylabel='Close'>"
      ]
     },
     "execution_count": 32,
     "metadata": {},
     "output_type": "execute_result"
    },
    {
     "data": {
      "image/png": "[encoded data removed]",
      "text/plain": [
       "<Figure size 640x480 with 1 Axes>"
      ]
     },
     "metadata": {},
     "output_type": "display_data"
    }
   ],
   "source": [
    "sns.scatterplot(x=df['Open'],y=df['Close'])"
   ]
  },
  {
   "cell_type": "code",
   "execution_count": 36,
   "id": "28ddd695",
   "metadata": {},
   "outputs": [],
   "source": [
    "from sklearn.model_selection import train_test_split\n",
    "df.drop(columns=['Date','Currency'], inplace = True)"
   ]
  },
  {
   "cell_type": "code",
   "execution_count": 37,
   "id": "3cb9172a",
   "metadata": {},
   "outputs": [
    {
     "data": {
      "text/html": [
       "<div>\n",
       "<style scoped>\n",
       "    .dataframe tbody tr th:only-of-type {\n",
       "        vertical-align: middle;\n",
       "    }\n",
       "\n",
       "    .dataframe tbody tr th {\n",
       "        vertical-align: top;\n",
       "    }\n",
       "\n",
       "    .dataframe thead th {\n",
       "        text-align: right;\n",
       "    }\n",
       "</style>\n",
       "<table border=\"1\" class=\"dataframe\">\n",
       "  <thead>\n",
       "    <tr style=\"text-align: right;\">\n",
       "      <th></th>\n",
       "      <th>Open</th>\n",
       "      <th>High</th>\n",
       "      <th>Low</th>\n",
       "      <th>Close</th>\n",
       "      <th>Volume</th>\n",
       "    </tr>\n",
       "  </thead>\n",
       "  <tbody>\n",
       "    <tr>\n",
       "      <th>0</th>\n",
       "      <td>0.162048</td>\n",
       "      <td>0.226040</td>\n",
       "      <td>0.153893</td>\n",
       "      <td>0.157250</td>\n",
       "      <td>0.0</td>\n",
       "    </tr>\n",
       "    <tr>\n",
       "      <th>1</th>\n",
       "      <td>0.157051</td>\n",
       "      <td>0.194861</td>\n",
       "      <td>0.121857</td>\n",
       "      <td>0.129449</td>\n",
       "      <td>3506064.0</td>\n",
       "    </tr>\n",
       "    <tr>\n",
       "      <th>2</th>\n",
       "      <td>0.129607</td>\n",
       "      <td>0.129681</td>\n",
       "      <td>0.090093</td>\n",
       "      <td>0.103120</td>\n",
       "      <td>900435.0</td>\n",
       "    </tr>\n",
       "    <tr>\n",
       "      <th>3</th>\n",
       "      <td>0.103113</td>\n",
       "      <td>0.120375</td>\n",
       "      <td>0.073541</td>\n",
       "      <td>0.078698</td>\n",
       "      <td>483496.0</td>\n",
       "    </tr>\n",
       "    <tr>\n",
       "      <th>4</th>\n",
       "      <td>0.078713</td>\n",
       "      <td>0.097588</td>\n",
       "      <td>0.077026</td>\n",
       "      <td>0.082291</td>\n",
       "      <td>319587.0</td>\n",
       "    </tr>\n",
       "  </tbody>\n",
       "</table>\n",
       "</div>"
      ],
      "text/plain": [
       "       Open      High       Low     Close     Volume\n",
       "0  0.162048  0.226040  0.153893  0.157250        0.0\n",
       "1  0.157051  0.194861  0.121857  0.129449  3506064.0\n",
       "2  0.129607  0.129681  0.090093  0.103120   900435.0\n",
       "3  0.103113  0.120375  0.073541  0.078698   483496.0\n",
       "4  0.078713  0.097588  0.077026  0.082291   319587.0"
      ]
     },
     "execution_count": 37,
     "metadata": {},
     "output_type": "execute_result"
    }
   ],
   "source": [
    "df.head()"
   ]
  },
  {
   "cell_type": "code",
   "execution_count": 40,
   "id": "e675eef5",
   "metadata": {},
   "outputs": [],
   "source": [
    "X = df.drop(['Open'], axis=1 )\n",
    "y = df['Open']"
   ]
  },
  {
   "cell_type": "code",
   "execution_count": 41,
   "id": "369a2b7d",
   "metadata": {},
   "outputs": [],
   "source": [
    "X_train, X_test, y_train, y_test = train_test_split(X,y,test_size= 0.2) "
   ]
  },
  {
   "cell_type": "code",
   "execution_count": 42,
   "id": "c4d03379",
   "metadata": {},
   "outputs": [],
   "source": [
    "train_df = X_train.join(y_train)"
   ]
  },
  {
   "cell_type": "code",
   "execution_count": 46,
   "id": "4c18c87b",
   "metadata": {},
   "outputs": [
    {
     "data": {
      "text/html": [
       "<div>\n",
       "<style scoped>\n",
       "    .dataframe tbody tr th:only-of-type {\n",
       "        vertical-align: middle;\n",
       "    }\n",
       "\n",
       "    .dataframe tbody tr th {\n",
       "        vertical-align: top;\n",
       "    }\n",
       "\n",
       "    .dataframe thead th {\n",
       "        text-align: right;\n",
       "    }\n",
       "</style>\n",
       "<table border=\"1\" class=\"dataframe\">\n",
       "  <thead>\n",
       "    <tr style=\"text-align: right;\">\n",
       "      <th></th>\n",
       "      <th>High</th>\n",
       "      <th>Low</th>\n",
       "      <th>Close</th>\n",
       "      <th>Volume</th>\n",
       "      <th>Open</th>\n",
       "    </tr>\n",
       "  </thead>\n",
       "  <tbody>\n",
       "    <tr>\n",
       "      <th>High</th>\n",
       "      <td>1.000000</td>\n",
       "      <td>0.944609</td>\n",
       "      <td>0.947599</td>\n",
       "      <td>0.036140</td>\n",
       "      <td>0.949449</td>\n",
       "    </tr>\n",
       "    <tr>\n",
       "      <th>Low</th>\n",
       "      <td>0.944609</td>\n",
       "      <td>1.000000</td>\n",
       "      <td>0.997109</td>\n",
       "      <td>0.037667</td>\n",
       "      <td>0.996509</td>\n",
       "    </tr>\n",
       "    <tr>\n",
       "      <th>Close</th>\n",
       "      <td>0.947599</td>\n",
       "      <td>0.997109</td>\n",
       "      <td>1.000000</td>\n",
       "      <td>0.038688</td>\n",
       "      <td>0.995386</td>\n",
       "    </tr>\n",
       "    <tr>\n",
       "      <th>Volume</th>\n",
       "      <td>0.036140</td>\n",
       "      <td>0.037667</td>\n",
       "      <td>0.038688</td>\n",
       "      <td>1.000000</td>\n",
       "      <td>0.036777</td>\n",
       "    </tr>\n",
       "    <tr>\n",
       "      <th>Open</th>\n",
       "      <td>0.949449</td>\n",
       "      <td>0.996509</td>\n",
       "      <td>0.995386</td>\n",
       "      <td>0.036777</td>\n",
       "      <td>1.000000</td>\n",
       "    </tr>\n",
       "  </tbody>\n",
       "</table>\n",
       "</div>"
      ],
      "text/plain": [
       "            High       Low     Close    Volume      Open\n",
       "High    1.000000  0.944609  0.947599  0.036140  0.949449\n",
       "Low     0.944609  1.000000  0.997109  0.037667  0.996509\n",
       "Close   0.947599  0.997109  1.000000  0.038688  0.995386\n",
       "Volume  0.036140  0.037667  0.038688  1.000000  0.036777\n",
       "Open    0.949449  0.996509  0.995386  0.036777  1.000000"
      ]
     },
     "execution_count": 46,
     "metadata": {},
     "output_type": "execute_result"
    }
   ],
   "source": [
    "train_df.corr()"
   ]
  },
  {
   "cell_type": "code",
   "execution_count": 47,
   "id": "a32f5c70",
   "metadata": {},
   "outputs": [],
   "source": [
    "train_df['High'] = np.log(train_df['High'] + 1)"
   ]
  },
  {
   "cell_type": "code",
   "execution_count": 48,
   "id": "40a22d7c",
   "metadata": {},
   "outputs": [],
   "source": [
    "train_df['Low'] = np.log(train_df['Low'] + 1)\n",
    "train_df['Close'] = np.log(train_df['Close'] + 1)\n",
    "train_df['Volume'] = np.log(train_df['Volume'] + 1)\n",
    "train_df['Open'] = np.log(train_df['Open'] + 1)"
   ]
  },
  {
   "cell_type": "code",
   "execution_count": 50,
   "id": "0304771e",
   "metadata": {},
   "outputs": [
    {
     "data": {
      "text/html": [
       "<div>\n",
       "<style scoped>\n",
       "    .dataframe tbody tr th:only-of-type {\n",
       "        vertical-align: middle;\n",
       "    }\n",
       "\n",
       "    .dataframe tbody tr th {\n",
       "        vertical-align: top;\n",
       "    }\n",
       "\n",
       "    .dataframe thead th {\n",
       "        text-align: right;\n",
       "    }\n",
       "</style>\n",
       "<table border=\"1\" class=\"dataframe\">\n",
       "  <thead>\n",
       "    <tr style=\"text-align: right;\">\n",
       "      <th></th>\n",
       "      <th>High</th>\n",
       "      <th>Low</th>\n",
       "      <th>Close</th>\n",
       "      <th>Volume</th>\n",
       "      <th>Open</th>\n",
       "    </tr>\n",
       "  </thead>\n",
       "  <tbody>\n",
       "    <tr>\n",
       "      <th>High</th>\n",
       "      <td>1.000000</td>\n",
       "      <td>0.995369</td>\n",
       "      <td>0.997441</td>\n",
       "      <td>0.220060</td>\n",
       "      <td>0.997161</td>\n",
       "    </tr>\n",
       "    <tr>\n",
       "      <th>Low</th>\n",
       "      <td>0.995369</td>\n",
       "      <td>1.000000</td>\n",
       "      <td>0.998551</td>\n",
       "      <td>0.212467</td>\n",
       "      <td>0.998456</td>\n",
       "    </tr>\n",
       "    <tr>\n",
       "      <th>Close</th>\n",
       "      <td>0.997441</td>\n",
       "      <td>0.998551</td>\n",
       "      <td>1.000000</td>\n",
       "      <td>0.216229</td>\n",
       "      <td>0.998697</td>\n",
       "    </tr>\n",
       "    <tr>\n",
       "      <th>Volume</th>\n",
       "      <td>0.220060</td>\n",
       "      <td>0.212467</td>\n",
       "      <td>0.216229</td>\n",
       "      <td>1.000000</td>\n",
       "      <td>0.215500</td>\n",
       "    </tr>\n",
       "    <tr>\n",
       "      <th>Open</th>\n",
       "      <td>0.997161</td>\n",
       "      <td>0.998456</td>\n",
       "      <td>0.998697</td>\n",
       "      <td>0.215500</td>\n",
       "      <td>1.000000</td>\n",
       "    </tr>\n",
       "  </tbody>\n",
       "</table>\n",
       "</div>"
      ],
      "text/plain": [
       "            High       Low     Close    Volume      Open\n",
       "High    1.000000  0.995369  0.997441  0.220060  0.997161\n",
       "Low     0.995369  1.000000  0.998551  0.212467  0.998456\n",
       "Close   0.997441  0.998551  1.000000  0.216229  0.998697\n",
       "Volume  0.220060  0.212467  0.216229  1.000000  0.215500\n",
       "Open    0.997161  0.998456  0.998697  0.215500  1.000000"
      ]
     },
     "execution_count": 50,
     "metadata": {},
     "output_type": "execute_result"
    }
   ],
   "source": [
    "train_df.corr()"
   ]
  },
  {
   "cell_type": "code",
   "execution_count": 66,
   "id": "64964072",
   "metadata": {},
   "outputs": [
    {
     "name": "stdout",
     "output_type": "stream",
     "text": [
      "R2 score 0.9961548036149915\n",
      "MAE 0.21201901697328987\n"
     ]
    }
   ],
   "source": [
    "# linear regression\n",
    "# step1 = ColumnTransformer(transformers=[\n",
    "#     ('col_tnf', OneHotEncoder(sparse=False, drop='first'),[0,1,2])\n",
    "# ], remainder='passthrough')\n",
    "\n",
    "step2 = LinearRegression()\n",
    "\n",
    "# pipe = Pipeline([\n",
    "#         ('step1', step1),\n",
    "#         ('step2', step2)])\n",
    "\n",
    "step2.fit(X_train, y_train)\n",
    "\n",
    "y_pred = step2.predict(X_test)\n",
    "\n",
    "print('R2 score', r2_score(y_test, y_pred))\n",
    "print('MAE',mean_absolute_error(y_test,y_pred))"
   ]
  },
  {
   "cell_type": "code",
   "execution_count": 61,
   "id": "68e644bb",
   "metadata": {},
   "outputs": [],
   "source": [
    "from sklearn.compose import ColumnTransformer\n",
    "from sklearn.preprocessing import OneHotEncoder\n",
    "from sklearn.linear_model import LinearRegression,Ridge,Lasso\n",
    "from sklearn.pipeline import Pipeline\n",
    "from sklearn.metrics import r2_score,mean_absolute_error"
   ]
  },
  {
   "cell_type": "code",
   "execution_count": 67,
   "id": "ab4e1bc1",
   "metadata": {},
   "outputs": [],
   "source": [
    "from sklearn.neighbors import KNeighborsRegressor\n",
    "from sklearn.tree import DecisionTreeRegressor\n",
    "from sklearn.ensemble import RandomForestRegressor,GradientBoostingRegressor,AdaBoostRegressor\n",
    "from sklearn.svm import SVR"
   ]
  },
  {
   "cell_type": "code",
   "execution_count": 75,
   "id": "b474b47f",
   "metadata": {},
   "outputs": [
    {
     "name": "stdout",
     "output_type": "stream",
     "text": [
      "R2 score 0.9961548036151511\n",
      "MAE 0.21201901828792238\n"
     ]
    }
   ],
   "source": [
    "# # Ridge regression\n",
    "# step1 = ColumnTransformer(transformers=[\n",
    "#     ('col_tnf', OneHotEncoder(sparse=False, drop='first'),[0,1,7,10,11])\n",
    "# ], remainder='passthrough')\n",
    "\n",
    "step3 = Ridge(alpha=0)\n",
    "\n",
    "# pipe = Pipeline([('step1', step1),('step2', step2)])\n",
    "\n",
    "step3.fit(X_train, y_train)\n",
    "\n",
    "y_pred = step3.predict(X_test)\n",
    "\n",
    "print('R2 score', r2_score(y_test, y_pred))\n",
    "print('MAE',mean_absolute_error(y_test,y_pred))"
   ]
  },
  {
   "cell_type": "code",
   "execution_count": 76,
   "id": "7c5bc155",
   "metadata": {},
   "outputs": [
    {
     "data": {
      "text/html": [
       "<div>\n",
       "<style scoped>\n",
       "    .dataframe tbody tr th:only-of-type {\n",
       "        vertical-align: middle;\n",
       "    }\n",
       "\n",
       "    .dataframe tbody tr th {\n",
       "        vertical-align: top;\n",
       "    }\n",
       "\n",
       "    .dataframe thead th {\n",
       "        text-align: right;\n",
       "    }\n",
       "</style>\n",
       "<table border=\"1\" class=\"dataframe\">\n",
       "  <thead>\n",
       "    <tr style=\"text-align: right;\">\n",
       "      <th></th>\n",
       "      <th>Open</th>\n",
       "      <th>High</th>\n",
       "      <th>Low</th>\n",
       "      <th>Close</th>\n",
       "      <th>Volume</th>\n",
       "    </tr>\n",
       "  </thead>\n",
       "  <tbody>\n",
       "    <tr>\n",
       "      <th>0</th>\n",
       "      <td>0.162048</td>\n",
       "      <td>0.226040</td>\n",
       "      <td>0.153893</td>\n",
       "      <td>0.157250</td>\n",
       "      <td>0.0</td>\n",
       "    </tr>\n",
       "    <tr>\n",
       "      <th>1</th>\n",
       "      <td>0.157051</td>\n",
       "      <td>0.194861</td>\n",
       "      <td>0.121857</td>\n",
       "      <td>0.129449</td>\n",
       "      <td>3506064.0</td>\n",
       "    </tr>\n",
       "    <tr>\n",
       "      <th>2</th>\n",
       "      <td>0.129607</td>\n",
       "      <td>0.129681</td>\n",
       "      <td>0.090093</td>\n",
       "      <td>0.103120</td>\n",
       "      <td>900435.0</td>\n",
       "    </tr>\n",
       "    <tr>\n",
       "      <th>3</th>\n",
       "      <td>0.103113</td>\n",
       "      <td>0.120375</td>\n",
       "      <td>0.073541</td>\n",
       "      <td>0.078698</td>\n",
       "      <td>483496.0</td>\n",
       "    </tr>\n",
       "    <tr>\n",
       "      <th>4</th>\n",
       "      <td>0.078713</td>\n",
       "      <td>0.097588</td>\n",
       "      <td>0.077026</td>\n",
       "      <td>0.082291</td>\n",
       "      <td>319587.0</td>\n",
       "    </tr>\n",
       "  </tbody>\n",
       "</table>\n",
       "</div>"
      ],
      "text/plain": [
       "       Open      High       Low     Close     Volume\n",
       "0  0.162048  0.226040  0.153893  0.157250        0.0\n",
       "1  0.157051  0.194861  0.121857  0.129449  3506064.0\n",
       "2  0.129607  0.129681  0.090093  0.103120   900435.0\n",
       "3  0.103113  0.120375  0.073541  0.078698   483496.0\n",
       "4  0.078713  0.097588  0.077026  0.082291   319587.0"
      ]
     },
     "execution_count": 76,
     "metadata": {},
     "output_type": "execute_result"
    }
   ],
   "source": [
    "df.head()"
   ]
  },
  {
   "cell_type": "code",
   "execution_count": 77,
   "id": "77949661",
   "metadata": {},
   "outputs": [
    {
     "name": "stdout",
     "output_type": "stream",
     "text": [
      "R2 score 0.9969391477427374\n",
      "MAE 0.18052401570264995\n"
     ]
    }
   ],
   "source": [
    "# # Decision Tree\n",
    "# step1 = ColumnTransformer(transformers=[\n",
    "#     ('col_tnf', OneHotEncoder(sparse=False, drop='first'),[0,1,7,10,11])\n",
    "# ], remainder='passthrough')\n",
    "\n",
    "step4 = DecisionTreeRegressor(max_depth=8)\n",
    "\n",
    "# pipe = Pipeline([('step1', step1),('step2', step2)])\n",
    "\n",
    "step4.fit(X_train, y_train)\n",
    "\n",
    "y_pred =step4.predict(X_test)\n",
    "\n",
    "print('R2 score', r2_score(y_test, y_pred))\n",
    "print('MAE',mean_absolute_error(y_test,y_pred))"
   ]
  },
  {
   "cell_type": "code",
   "execution_count": 79,
   "id": "cf620ac7",
   "metadata": {},
   "outputs": [
    {
     "name": "stdout",
     "output_type": "stream",
     "text": [
      "Fitting 2 folds for each of 9 candidates, totalling 18 fits\n",
      "[23:14:38] WARNING: C:/buildkite-agent/builds/buildkite-windows-cpu-autoscaling-group-i-08de971ced8a8cdc6-1/xgboost/xgboost-ci-windows/src/objective/regression_obj.cu:213: reg:linear is now deprecated in favor of reg:squarederror.\n",
      "[23:14:38] WARNING: C:/buildkite-agent/builds/buildkite-windows-cpu-autoscaling-group-i-08de971ced8a8cdc6-1/xgboost/xgboost-ci-windows/src/learner.cc:767: \n",
      "Parameters: { \"silent\" } are not used.\n",
      "\n"
     ]
    },
    {
     "data": {
      "text/html": [
       "<style>#sk-container-id-1 {color: black;background-color: white;}#sk-container-id-1 pre{padding: 0;}#sk-container-id-1 div.sk-toggleable {background-color: white;}#sk-container-id-1 label.sk-toggleable__label {cursor: pointer;display: block;width: 100%;margin-bottom: 0;padding: 0.3em;box-sizing: border-box;text-align: center;}#sk-container-id-1 label.sk-toggleable__label-arrow:before {content: \"▸\";float: left;margin-right: 0.25em;color: #696969;}#sk-container-id-1 label.sk-toggleable__label-arrow:hover:before {color: black;}#sk-container-id-1 div.sk-estimator:hover label.sk-toggleable__label-arrow:before {color: black;}#sk-container-id-1 div.sk-toggleable__content {max-height: 0;max-width: 0;overflow: hidden;text-align: left;background-color: #f0f8ff;}#sk-container-id-1 div.sk-toggleable__content pre {margin: 0.2em;color: black;border-radius: 0.25em;background-color: #f0f8ff;}#sk-container-id-1 input.sk-toggleable__control:checked~div.sk-toggleable__content {max-height: 200px;max-width: 100%;overflow: auto;}#sk-container-id-1 input.sk-toggleable__control:checked~label.sk-toggleable__label-arrow:before {content: \"▾\";}#sk-container-id-1 div.sk-estimator input.sk-toggleable__control:checked~label.sk-toggleable__label {background-color: #d4ebff;}#sk-container-id-1 div.sk-label input.sk-toggleable__control:checked~label.sk-toggleable__label {background-color: #d4ebff;}#sk-container-id-1 input.sk-hidden--visually {border: 0;clip: rect(1px 1px 1px 1px);clip: rect(1px, 1px, 1px, 1px);height: 1px;margin: -1px;overflow: hidden;padding: 0;position: absolute;width: 1px;}#sk-container-id-1 div.sk-estimator {font-family: monospace;background-color: #f0f8ff;border: 1px dotted black;border-radius: 0.25em;box-sizing: border-box;margin-bottom: 0.5em;}#sk-container-id-1 div.sk-estimator:hover {background-color: #d4ebff;}#sk-container-id-1 div.sk-parallel-item::after {content: \"\";width: 100%;border-bottom: 1px solid gray;flex-grow: 1;}#sk-container-id-1 div.sk-label:hover label.sk-toggleable__label {background-color: #d4ebff;}#sk-container-id-1 div.sk-serial::before {content: \"\";position: absolute;border-left: 1px solid gray;box-sizing: border-box;top: 0;bottom: 0;left: 50%;z-index: 0;}#sk-container-id-1 div.sk-serial {display: flex;flex-direction: column;align-items: center;background-color: white;padding-right: 0.2em;padding-left: 0.2em;position: relative;}#sk-container-id-1 div.sk-item {position: relative;z-index: 1;}#sk-container-id-1 div.sk-parallel {display: flex;align-items: stretch;justify-content: center;background-color: white;position: relative;}#sk-container-id-1 div.sk-item::before, #sk-container-id-1 div.sk-parallel-item::before {content: \"\";position: absolute;border-left: 1px solid gray;box-sizing: border-box;top: 0;bottom: 0;left: 50%;z-index: -1;}#sk-container-id-1 div.sk-parallel-item {display: flex;flex-direction: column;z-index: 1;position: relative;background-color: white;}#sk-container-id-1 div.sk-parallel-item:first-child::after {align-self: flex-end;width: 50%;}#sk-container-id-1 div.sk-parallel-item:last-child::after {align-self: flex-start;width: 50%;}#sk-container-id-1 div.sk-parallel-item:only-child::after {width: 0;}#sk-container-id-1 div.sk-dashed-wrapped {border: 1px dashed gray;margin: 0 0.4em 0.5em 0.4em;box-sizing: border-box;padding-bottom: 0.4em;background-color: white;}#sk-container-id-1 div.sk-label label {font-family: monospace;font-weight: bold;display: inline-block;line-height: 1.2em;}#sk-container-id-1 div.sk-label-container {text-align: center;}#sk-container-id-1 div.sk-container {/* jupyter's `normalize.less` sets `[hidden] { display: none; }` but bootstrap.min.css set `[hidden] { display: none !important; }` so we also need the `!important` here to be able to override the default hidden behavior on the sphinx rendered scikit-learn.org. See: https://github.com/scikit-learn/scikit-learn/issues/21755 */display: inline-block !important;position: relative;}#sk-container-id-1 div.sk-text-repr-fallback {display: none;}</style><div id=\"sk-container-id-1\" class=\"sk-top-container\"><div class=\"sk-text-repr-fallback\"><pre>GridSearchCV(cv=2,\n",
       "             estimator=XGBRegressor(base_score=None, booster=None,\n",
       "                                    callbacks=None, colsample_bylevel=None,\n",
       "                                    colsample_bynode=None,\n",
       "                                    colsample_bytree=None,\n",
       "                                    early_stopping_rounds=None,\n",
       "                                    enable_categorical=False, eval_metric=None,\n",
       "                                    feature_types=None, gamma=None, gpu_id=None,\n",
       "                                    grow_policy=None, importance_type=None,\n",
       "                                    interaction_constraints=None,\n",
       "                                    learning_rate=None, m...\n",
       "                                    min_child_weight=None, missing=nan,\n",
       "                                    monotone_constraints=None, n_estimators=100,\n",
       "                                    n_jobs=None, num_parallel_tree=None,\n",
       "                                    predictor=None, random_state=None, ...),\n",
       "             n_jobs=5,\n",
       "             param_grid={&#x27;colsample_bytree&#x27;: [0.7],\n",
       "                         &#x27;learning_rate&#x27;: [0.03, 0.05, 0.07],\n",
       "                         &#x27;max_depth&#x27;: [5, 6, 7], &#x27;min_child_weight&#x27;: [4],\n",
       "                         &#x27;n_estimators&#x27;: [500], &#x27;nthread&#x27;: [4],\n",
       "                         &#x27;objective&#x27;: [&#x27;reg:linear&#x27;], &#x27;silent&#x27;: [1],\n",
       "                         &#x27;subsample&#x27;: [0.7]},\n",
       "             verbose=True)</pre><b>In a Jupyter environment, please rerun this cell to show the HTML representation or trust the notebook. <br />On GitHub, the HTML representation is unable to render, please try loading this page with nbviewer.org.</b></div><div class=\"sk-container\" hidden><div class=\"sk-item sk-dashed-wrapped\"><div class=\"sk-label-container\"><div class=\"sk-label sk-toggleable\"><input class=\"sk-toggleable__control sk-hidden--visually\" id=\"sk-estimator-id-1\" type=\"checkbox\" ><label for=\"sk-estimator-id-1\" class=\"sk-toggleable__label sk-toggleable__label-arrow\">GridSearchCV</label><div class=\"sk-toggleable__content\"><pre>GridSearchCV(cv=2,\n",
       "             estimator=XGBRegressor(base_score=None, booster=None,\n",
       "                                    callbacks=None, colsample_bylevel=None,\n",
       "                                    colsample_bynode=None,\n",
       "                                    colsample_bytree=None,\n",
       "                                    early_stopping_rounds=None,\n",
       "                                    enable_categorical=False, eval_metric=None,\n",
       "                                    feature_types=None, gamma=None, gpu_id=None,\n",
       "                                    grow_policy=None, importance_type=None,\n",
       "                                    interaction_constraints=None,\n",
       "                                    learning_rate=None, m...\n",
       "                                    min_child_weight=None, missing=nan,\n",
       "                                    monotone_constraints=None, n_estimators=100,\n",
       "                                    n_jobs=None, num_parallel_tree=None,\n",
       "                                    predictor=None, random_state=None, ...),\n",
       "             n_jobs=5,\n",
       "             param_grid={&#x27;colsample_bytree&#x27;: [0.7],\n",
       "                         &#x27;learning_rate&#x27;: [0.03, 0.05, 0.07],\n",
       "                         &#x27;max_depth&#x27;: [5, 6, 7], &#x27;min_child_weight&#x27;: [4],\n",
       "                         &#x27;n_estimators&#x27;: [500], &#x27;nthread&#x27;: [4],\n",
       "                         &#x27;objective&#x27;: [&#x27;reg:linear&#x27;], &#x27;silent&#x27;: [1],\n",
       "                         &#x27;subsample&#x27;: [0.7]},\n",
       "             verbose=True)</pre></div></div></div><div class=\"sk-parallel\"><div class=\"sk-parallel-item\"><div class=\"sk-item\"><div class=\"sk-label-container\"><div class=\"sk-label sk-toggleable\"><input class=\"sk-toggleable__control sk-hidden--visually\" id=\"sk-estimator-id-2\" type=\"checkbox\" ><label for=\"sk-estimator-id-2\" class=\"sk-toggleable__label sk-toggleable__label-arrow\">estimator: XGBRegressor</label><div class=\"sk-toggleable__content\"><pre>XGBRegressor(base_score=None, booster=None, callbacks=None,\n",
       "             colsample_bylevel=None, colsample_bynode=None,\n",
       "             colsample_bytree=None, early_stopping_rounds=None,\n",
       "             enable_categorical=False, eval_metric=None, feature_types=None,\n",
       "             gamma=None, gpu_id=None, grow_policy=None, importance_type=None,\n",
       "             interaction_constraints=None, learning_rate=None, max_bin=None,\n",
       "             max_cat_threshold=None, max_cat_to_onehot=None,\n",
       "             max_delta_step=None, max_depth=None, max_leaves=None,\n",
       "             min_child_weight=None, missing=nan, monotone_constraints=None,\n",
       "             n_estimators=100, n_jobs=None, num_parallel_tree=None,\n",
       "             predictor=None, random_state=None, ...)</pre></div></div></div><div class=\"sk-serial\"><div class=\"sk-item\"><div class=\"sk-estimator sk-toggleable\"><input class=\"sk-toggleable__control sk-hidden--visually\" id=\"sk-estimator-id-3\" type=\"checkbox\" ><label for=\"sk-estimator-id-3\" class=\"sk-toggleable__label sk-toggleable__label-arrow\">XGBRegressor</label><div class=\"sk-toggleable__content\"><pre>XGBRegressor(base_score=None, booster=None, callbacks=None,\n",
       "             colsample_bylevel=None, colsample_bynode=None,\n",
       "             colsample_bytree=None, early_stopping_rounds=None,\n",
       "             enable_categorical=False, eval_metric=None, feature_types=None,\n",
       "             gamma=None, gpu_id=None, grow_policy=None, importance_type=None,\n",
       "             interaction_constraints=None, learning_rate=None, max_bin=None,\n",
       "             max_cat_threshold=None, max_cat_to_onehot=None,\n",
       "             max_delta_step=None, max_depth=None, max_leaves=None,\n",
       "             min_child_weight=None, missing=nan, monotone_constraints=None,\n",
       "             n_estimators=100, n_jobs=None, num_parallel_tree=None,\n",
       "             predictor=None, random_state=None, ...)</pre></div></div></div></div></div></div></div></div></div></div>"
      ],
      "text/plain": [
       "GridSearchCV(cv=2,\n",
       "             estimator=XGBRegressor(base_score=None, booster=None,\n",
       "                                    callbacks=None, colsample_bylevel=None,\n",
       "                                    colsample_bynode=None,\n",
       "                                    colsample_bytree=None,\n",
       "                                    early_stopping_rounds=None,\n",
       "                                    enable_categorical=False, eval_metric=None,\n",
       "                                    feature_types=None, gamma=None, gpu_id=None,\n",
       "                                    grow_policy=None, importance_type=None,\n",
       "                                    interaction_constraints=None,\n",
       "                                    learning_rate=None, m...\n",
       "                                    min_child_weight=None, missing=nan,\n",
       "                                    monotone_constraints=None, n_estimators=100,\n",
       "                                    n_jobs=None, num_parallel_tree=None,\n",
       "                                    predictor=None, random_state=None, ...),\n",
       "             n_jobs=5,\n",
       "             param_grid={'colsample_bytree': [0.7],\n",
       "                         'learning_rate': [0.03, 0.05, 0.07],\n",
       "                         'max_depth': [5, 6, 7], 'min_child_weight': [4],\n",
       "                         'n_estimators': [500], 'nthread': [4],\n",
       "                         'objective': ['reg:linear'], 'silent': [1],\n",
       "                         'subsample': [0.7]},\n",
       "             verbose=True)"
      ]
     },
     "execution_count": 79,
     "metadata": {},
     "output_type": "execute_result"
    }
   ],
   "source": [
    "from xgboost import XGBRegressor\n",
    "xgb1 = XGBRegressor()\n",
    "parameters = {'nthread':[4], #when use hyperthread, xgboost may become slower\n",
    "              'objective':['reg:linear'],\n",
    "              'learning_rate': [.03, 0.05, .07], #so called `eta` value\n",
    "              'max_depth': [5, 6, 7],\n",
    "              'min_child_weight': [4],\n",
    "              'silent': [1],\n",
    "              'subsample': [0.7],\n",
    "              'colsample_bytree': [0.7],\n",
    "              'n_estimators': [500]}\n",
    "from sklearn.model_selection import GridSearchCV\n",
    "xgb_grid = GridSearchCV(xgb1,\n",
    "                        parameters,\n",
    "                        cv = 2,\n",
    "                        n_jobs = 5,\n",
    "                        verbose=True)\n",
    "xgb_grid.fit(X_train,y_train)"
   ]
  },
  {
   "cell_type": "code",
   "execution_count": 80,
   "id": "0dcd218d",
   "metadata": {},
   "outputs": [
    {
     "name": "stdout",
     "output_type": "stream",
     "text": [
      "0.9951963217904116\n",
      "{'colsample_bytree': 0.7, 'learning_rate': 0.07, 'max_depth': 7, 'min_child_weight': 4, 'n_estimators': 500, 'nthread': 4, 'objective': 'reg:linear', 'silent': 1, 'subsample': 0.7}\n"
     ]
    }
   ],
   "source": [
    "print(xgb_grid.best_score_)\n",
    "print(xgb_grid.best_params_)"
   ]
  },
  {
   "cell_type": "code",
   "execution_count": 83,
   "id": "466c4b9f",
   "metadata": {},
   "outputs": [
    {
     "data": {
      "text/plain": [
       "0.9983766177868355"
      ]
     },
     "execution_count": 83,
     "metadata": {},
     "output_type": "execute_result"
    }
   ],
   "source": [
    "y_xgb1 = xgb_grid.predict(X_test)\n",
    "mean_absolute_error(y_xgb1,y_test)\n",
    "r2_score(y_xgb1,y_test)"
   ]
  },
  {
   "cell_type": "code",
   "execution_count": 84,
   "id": "478357ce",
   "metadata": {},
   "outputs": [
    {
     "data": {
      "text/html": [
       "<div>\n",
       "<style scoped>\n",
       "    .dataframe tbody tr th:only-of-type {\n",
       "        vertical-align: middle;\n",
       "    }\n",
       "\n",
       "    .dataframe tbody tr th {\n",
       "        vertical-align: top;\n",
       "    }\n",
       "\n",
       "    .dataframe thead th {\n",
       "        text-align: right;\n",
       "    }\n",
       "</style>\n",
       "<table border=\"1\" class=\"dataframe\">\n",
       "  <thead>\n",
       "    <tr style=\"text-align: right;\">\n",
       "      <th></th>\n",
       "      <th>0</th>\n",
       "      <th>1</th>\n",
       "      <th>2</th>\n",
       "      <th>3</th>\n",
       "      <th>4</th>\n",
       "    </tr>\n",
       "  </thead>\n",
       "  <tbody>\n",
       "    <tr>\n",
       "      <th>Open</th>\n",
       "      <td>0.162048</td>\n",
       "      <td>1.570510e-01</td>\n",
       "      <td>0.129607</td>\n",
       "      <td>0.103113</td>\n",
       "      <td>0.078713</td>\n",
       "    </tr>\n",
       "    <tr>\n",
       "      <th>High</th>\n",
       "      <td>0.226040</td>\n",
       "      <td>1.948610e-01</td>\n",
       "      <td>0.129681</td>\n",
       "      <td>0.120375</td>\n",
       "      <td>0.097588</td>\n",
       "    </tr>\n",
       "    <tr>\n",
       "      <th>Low</th>\n",
       "      <td>0.153893</td>\n",
       "      <td>1.218570e-01</td>\n",
       "      <td>0.090093</td>\n",
       "      <td>0.073541</td>\n",
       "      <td>0.077026</td>\n",
       "    </tr>\n",
       "    <tr>\n",
       "      <th>Close</th>\n",
       "      <td>0.157250</td>\n",
       "      <td>1.294490e-01</td>\n",
       "      <td>0.103120</td>\n",
       "      <td>0.078698</td>\n",
       "      <td>0.082291</td>\n",
       "    </tr>\n",
       "    <tr>\n",
       "      <th>Volume</th>\n",
       "      <td>0.000000</td>\n",
       "      <td>3.506064e+06</td>\n",
       "      <td>900435.000000</td>\n",
       "      <td>483496.000000</td>\n",
       "      <td>319587.000000</td>\n",
       "    </tr>\n",
       "  </tbody>\n",
       "</table>\n",
       "</div>"
      ],
      "text/plain": [
       "               0             1              2              3              4\n",
       "Open    0.162048  1.570510e-01       0.129607       0.103113       0.078713\n",
       "High    0.226040  1.948610e-01       0.129681       0.120375       0.097588\n",
       "Low     0.153893  1.218570e-01       0.090093       0.073541       0.077026\n",
       "Close   0.157250  1.294490e-01       0.103120       0.078698       0.082291\n",
       "Volume  0.000000  3.506064e+06  900435.000000  483496.000000  319587.000000"
      ]
     },
     "execution_count": 84,
     "metadata": {},
     "output_type": "execute_result"
    }
   ],
   "source": [
    "df.head().T"
   ]
  },
  {
   "cell_type": "code",
   "execution_count": null,
   "id": "83355f90",
   "metadata": {},
   "outputs": [],
   "source": []
  }
 ],
 "metadata": {
  "kernelspec": {
   "display_name": "Python 3 (ipykernel)",
   "language": "python",
   "name": "python3"
  },
  "language_info": {
   "codemirror_mode": {
    "name": "ipython",
    "version": 3
   },
   "file_extension": ".py",
   "mimetype": "text/x-python",
   "name": "python",
   "nbconvert_exporter": "python",
   "pygments_lexer": "ipython3",
   "version": "3.9.16"
  }
 },
 "nbformat": 4,
 "nbformat_minor": 5
}
